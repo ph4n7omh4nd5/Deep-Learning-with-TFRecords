{
 "cells": [
  {
   "cell_type": "code",
   "execution_count": 1,
   "metadata": {},
   "outputs": [],
   "source": [
    "import pandas as pd\n",
    "import numpy as np\n",
    "import matplotlib.pyplot as plt\n",
    "import seaborn as sns\n",
    "import tensorflow as tf\n",
    "import tensorflow.keras as kr"
   ]
  },
  {
   "cell_type": "markdown",
   "metadata": {},
   "source": [
    "Importing the MNIST data..."
   ]
  },
  {
   "cell_type": "code",
   "execution_count": 5,
   "metadata": {},
   "outputs": [],
   "source": [
    "(X_train, y_train), (X_test, y_test) =  kr.datasets.fashion_mnist.load_data()"
   ]
  },
  {
   "cell_type": "code",
   "execution_count": 10,
   "metadata": {},
   "outputs": [
    {
     "data": {
      "text/plain": [
       "60000"
      ]
     },
     "execution_count": 10,
     "metadata": {},
     "output_type": "execute_result"
    }
   ],
   "source": [
    "X_train.shape[0]"
   ]
  },
  {
   "cell_type": "code",
   "execution_count": 12,
   "metadata": {},
   "outputs": [
    {
     "data": {
      "text/plain": [
       "10000"
      ]
     },
     "execution_count": 12,
     "metadata": {},
     "output_type": "execute_result"
    }
   ],
   "source": [
    "X_test.shape[0]"
   ]
  },
  {
   "cell_type": "markdown",
   "metadata": {},
   "source": [
    "Creating subtrain validation splits..."
   ]
  },
  {
   "cell_type": "code",
   "execution_count": 13,
   "metadata": {},
   "outputs": [],
   "source": [
    "X_valid, X_subtrain = X_train[:10000], X_train[10000:]\n",
    "y_valid, y_subtrain = y_train[:10000], y_train[10000:]"
   ]
  },
  {
   "cell_type": "code",
   "execution_count": 34,
   "metadata": {},
   "outputs": [],
   "source": [
    "train_set = tf.data.Dataset.from_tensor_slices((X_subtrain, y_subtrain)).shuffle(len(X_subtrain))\n",
    "valid_set = tf.data.Dataset.from_tensor_slices((X_valid, y_valid))\n",
    "test_set = tf.data.Dataset.from_tensor_slices((X_test, y_test))"
   ]
  },
  {
   "cell_type": "markdown",
   "metadata": {},
   "source": [
    "Defining labels and image features of protobuf..."
   ]
  },
  {
   "cell_type": "code",
   "execution_count": 44,
   "metadata": {},
   "outputs": [],
   "source": [
    "def serialize_example(image, label):\n",
    "\n",
    "  image_serial = tf.io.serialize_tensor(image)\n",
    "  feature={\n",
    "            \"image\": tf.train.Feature(bytes_list=tf.train.BytesList(value=[image_serial.numpy()])),\n",
    "            \"label\": tf.train.Feature(int64_list=tf.train.Int64List(value=[label.numpy()])),\n",
    "          }\n",
    "\n",
    "  example_proto = tf.train.Example(features=tf.train.Features(feature=feature))\n",
    "  return example_proto.SerializeToString()"
   ]
  },
  {
   "cell_type": "code",
   "execution_count": 45,
   "metadata": {},
   "outputs": [
    {
     "name": "stdout",
     "output_type": "stream",
     "text": [
      "b'\\n\\xc2\\x06\\n\\xaf\\x06\\n\\x05image\\x12\\xa5\\x06\\n\\xa2\\x06\\n\\x9f\\x06\\x08\\x04\\x12\\x08\\x12\\x02\\x08\\x1c\\x12\\x02\\x08\\x1c\"\\x90\\x06\\x00\\x00\\x00\\x00\\x00\\x00\\x00\\x00\\x00\\x00\\x00\\x00\\x00\\x00\\x00\\x00\\x00\\x00\\x00\\x00\\x00\\x00\\x00\\x00\\x00\\x00\\x00\\x00\\x00\\x00\\x00\\x00\\x00\\x00\\x00\\x00\\x00\\x00\\x00\\x00\\x00\\x00\\x00\\x00\\x00\\x00\\x00\\x00\\x00\\x00\\x00\\x00\\x00\\x00\\x00\\x00\\x00\\x00\\x00\\x00\\x00\\x00\\x00\\x00\\x00\\x00\\x00\\x00\\x00\\x00\\x00\\x00\\x00\\x00\\x00\\x00\\x00\\x00\\x00\\x00\\x00\\x00\\x00\\x00\\x00\\x00\\x00\\x00\\x00\\x00\\x00\\x00\\x00\\x00\\x00\\x00\\x01\\x00\\x00\\rI\\x00\\x00\\x01\\x04\\x00\\x00\\x00\\x00\\x01\\x01\\x00\\x00\\x00\\x00\\x00\\x00\\x00\\x00\\x00\\x00\\x00\\x00\\x00\\x03\\x00$\\x88\\x7f>6\\x00\\x00\\x00\\x01\\x03\\x04\\x00\\x00\\x03\\x00\\x00\\x00\\x00\\x00\\x00\\x00\\x00\\x00\\x00\\x00\\x00\\x06\\x00f\\xcc\\xb0\\x86\\x90{\\x17\\x00\\x00\\x00\\x00\\x0c\\n\\x00\\x00\\x00\\x00\\x00\\x00\\x00\\x00\\x00\\x00\\x00\\x00\\x00\\x00\\x00\\x9b\\xec\\xcf\\xb2k\\x9c\\xa1m@\\x17M\\x82H\\x0f\\x00\\x00\\x00\\x00\\x00\\x00\\x00\\x00\\x00\\x00\\x00\\x01\\x00E\\xcf\\xdf\\xda\\xd8\\xd8\\xa3\\x7fyz\\x92\\x8dX\\xacB\\x00\\x00\\x00\\x00\\x00\\x00\\x00\\x00\\x00\\x01\\x01\\x01\\x00\\xc8\\xe8\\xe8\\xe9\\xe5\\xdf\\xdf\\xd7\\xd5\\xa4\\x7f{\\xc4\\xe5\\x00\\x00\\x00\\x00\\x00\\x00\\x00\\x00\\x00\\x00\\x00\\x00\\x00\\x00\\xb7\\xe1\\xd8\\xdf\\xe4\\xeb\\xe3\\xe0\\xde\\xe0\\xdd\\xdf\\xf5\\xad\\x00\\x00\\x00\\x00\\x00\\x00\\x00\\x00\\x00\\x00\\x00\\x00\\x00\\x00\\xc1\\xe4\\xda\\xd5\\xc6\\xb4\\xd4\\xd2\\xd3\\xd5\\xdf\\xdc\\xf3\\xca\\x00\\x00\\x00\\x00\\x00\\x00\\x00\\x00\\x00\\x00\\x01\\x03\\x00\\x0c\\xdb\\xdc\\xd4\\xda\\xc0\\xa9\\xe3\\xd0\\xda\\xe0\\xd4\\xe2\\xc5\\xd14\\x00\\x00\\x00\\x00\\x00\\x00\\x00\\x00\\x00\\x00\\x06\\x00c\\xf4\\xde\\xdc\\xda\\xcb\\xc6\\xdd\\xd7\\xd5\\xde\\xdc\\xf5w\\xa78\\x00\\x00\\x00\\x00\\x00\\x00\\x00\\x00\\x00\\x04\\x00\\x007\\xec\\xe4\\xe6\\xe4\\xf0\\xe8\\xd5\\xda\\xdf\\xea\\xd9\\xd9\\xd1\\\\\\x00\\x00\\x00\\x01\\x04\\x06\\x07\\x02\\x00\\x00\\x00\\x00\\x00\\xed\\xe2\\xd9\\xdf\\xde\\xdb\\xde\\xdd\\xd8\\xdf\\xe5\\xd7\\xda\\xffM\\x00\\x00\\x03\\x00\\x00\\x00\\x00\\x00\\x00\\x00>\\x91\\xcc\\xe4\\xcf\\xd5\\xdd\\xda\\xd0\\xd3\\xda\\xe0\\xdf\\xdb\\xd7\\xe0\\xf4\\x9f\\x00\\x00\\x00\\x00\\x00\\x12,Rk\\xbd\\xe4\\xdc\\xde\\xd9\\xe2\\xc8\\xcd\\xd3\\xe6\\xe0\\xea\\xb0\\xbc\\xfa\\xf8\\xe9\\xee\\xd7\\x00\\x009\\xbb\\xd0\\xe0\\xdd\\xe0\\xd0\\xcc\\xd6\\xd0\\xd1\\xc8\\x9f\\xf5\\xc1\\xce\\xdf\\xff\\xff\\xdd\\xea\\xdd\\xd3\\xdc\\xe8\\xf6\\x00\\x03\\xca\\xe4\\xe0\\xdd\\xd3\\xd3\\xd6\\xcd\\xcd\\xcd\\xdc\\xf0P\\x96\\xff\\xe5\\xdd\\xbc\\x9a\\xbf\\xd2\\xcc\\xd1\\xde\\xe4\\xe1\\x00b\\xe9\\xc6\\xd2\\xde\\xe5\\xe5\\xea\\xf9\\xdc\\xc2\\xd7\\xd9\\xf1AIju\\xa8\\xdb\\xdd\\xd7\\xd9\\xdf\\xdf\\xe0\\xe5\\x1dK\\xcc\\xd4\\xcc\\xc1\\xcd\\xd3\\xe1\\xd8\\xb9\\xc5\\xce\\xc6\\xd5\\xf0\\xc3\\xe3\\xf5\\xef\\xdf\\xda\\xd4\\xd1\\xde\\xdc\\xdd\\xe6C0\\xcb\\xb7\\xc2\\xd5\\xc5\\xb9\\xbe\\xc2\\xc0\\xca\\xd6\\xdb\\xdd\\xdc\\xec\\xe1\\xd8\\xc7\\xce\\xba\\xb5\\xb1\\xac\\xb5\\xcd\\xces\\x00z\\xdb\\xc1\\xb3\\xab\\xb7\\xc4\\xcc\\xd2\\xd5\\xcf\\xd3\\xd2\\xc8\\xc4\\xc2\\xbf\\xc3\\xbf\\xc6\\xc0\\xb0\\x9c\\xa7\\xb1\\xd2\\\\\\x00\\x00J\\xbd\\xd4\\xbf\\xaf\\xac\\xaf\\xb5\\xb9\\xbc\\xbd\\xbc\\xc1\\xc6\\xcc\\xd1\\xd2\\xd2\\xd3\\xbc\\xbc\\xc2\\xc0\\xd8\\xaa\\x00\\x02\\x00\\x00\\x00B\\xc8\\xde\\xed\\xef\\xf2\\xf6\\xf3\\xf4\\xdd\\xdc\\xc1\\xbf\\xb3\\xb6\\xb6\\xb5\\xb0\\xa6\\xa8c:\\x00\\x00\\x00\\x00\\x00\\x00\\x00\\x00\\x00(=,H)#\\x00\\x00\\x00\\x00\\x00\\x00\\x00\\x00\\x00\\x00\\x00\\x00\\x00\\x00\\x00\\x00\\x00\\x00\\x00\\x00\\x00\\x00\\x00\\x00\\x00\\x00\\x00\\x00\\x00\\x00\\x00\\x00\\x00\\x00\\x00\\x00\\x00\\x00\\x00\\x00\\x00\\x00\\x00\\x00\\x00\\x00\\x00\\x00\\x00\\x00\\x00\\x00\\x00\\x00\\x00\\x00\\x00\\x00\\x00\\x00\\x00\\x00\\x00\\x00\\x00\\x00\\x00\\x00\\x00\\x00\\x00\\n\\x0e\\n\\x05label\\x12\\x05\\x1a\\x03\\n\\x01\\t'\n"
     ]
    }
   ],
   "source": [
    "for image, label in valid_set.take(1):\n",
    "    print(serialize_example(image, label))"
   ]
  },
  {
   "cell_type": "markdown",
   "metadata": {},
   "source": [
    "Writing TFRecord to disk..."
   ]
  },
  {
   "cell_type": "code",
   "execution_count": 47,
   "metadata": {},
   "outputs": [],
   "source": [
    "def tf_serialize_example(image, label):\n",
    "  tf_string = tf.py_function(\n",
    "    serialize_example, (image, label), tf.string)     \n",
    "  return tf.reshape(tf_string, ()) "
   ]
  },
  {
   "cell_type": "code",
   "execution_count": 49,
   "metadata": {},
   "outputs": [
    {
     "data": {
      "text/plain": [
       "<MapDataset shapes: (), types: tf.string>"
      ]
     },
     "execution_count": 49,
     "metadata": {},
     "output_type": "execute_result"
    }
   ],
   "source": [
    "serialized_train = train_set.map(tf_serialize_example)\n",
    "serialized_train"
   ]
  },
  {
   "cell_type": "code",
   "execution_count": 52,
   "metadata": {},
   "outputs": [],
   "source": [
    "def train_generator():\n",
    "  for features in train_set:\n",
    "    yield serialize_example(*features)"
   ]
  },
  {
   "cell_type": "code",
   "execution_count": 55,
   "metadata": {},
   "outputs": [],
   "source": [
    "def valid_generator():\n",
    "  for features in valid_set:\n",
    "    yield serialize_example(*features)"
   ]
  },
  {
   "cell_type": "code",
   "execution_count": 56,
   "metadata": {},
   "outputs": [],
   "source": [
    "def test_generator():\n",
    "  for features in test_set:\n",
    "    yield serialize_example(*features)"
   ]
  },
  {
   "cell_type": "code",
   "execution_count": 53,
   "metadata": {},
   "outputs": [],
   "source": [
    "serialized_train_dataset = tf.data.Dataset.from_generator(\n",
    "    train_generator, output_types=tf.string, output_shapes=())"
   ]
  },
  {
   "cell_type": "code",
   "execution_count": 54,
   "metadata": {},
   "outputs": [
    {
     "data": {
      "text/plain": [
       "<FlatMapDataset shapes: (), types: tf.string>"
      ]
     },
     "execution_count": 54,
     "metadata": {},
     "output_type": "execute_result"
    }
   ],
   "source": [
    "serialized_train_dataset"
   ]
  },
  {
   "cell_type": "code",
   "execution_count": 57,
   "metadata": {},
   "outputs": [],
   "source": [
    "serialized_valid_dataset = tf.data.Dataset.from_generator(\n",
    "    valid_generator, output_types=tf.string, output_shapes=())"
   ]
  },
  {
   "cell_type": "code",
   "execution_count": 58,
   "metadata": {},
   "outputs": [],
   "source": [
    "serialized_test_dataset = tf.data.Dataset.from_generator(\n",
    "    test_generator, output_types=tf.string, output_shapes=())"
   ]
  },
  {
   "cell_type": "code",
   "execution_count": 6,
   "metadata": {},
   "outputs": [],
   "source": [
    "PATH = \"D:/Program Files (x86)/Jupyter Projects/\"\n",
    "def write_tfrecord(name, dataset):\n",
    "    filepath = PATH + name\n",
    "    writer = tf.data.experimental.TFRecordWriter(filepath)\n",
    "    writer.write(dataset)\n",
    "    return filepath"
   ]
  },
  {
   "cell_type": "code",
   "execution_count": 60,
   "metadata": {},
   "outputs": [
    {
     "name": "stdout",
     "output_type": "stream",
     "text": [
      "WARNING:tensorflow:From C:\\Users\\sixbo\\AppData\\Local\\Temp\\ipykernel_12468\\1425467267.py:4: TFRecordWriter.__init__ (from tensorflow.python.data.experimental.ops.writers) is deprecated and will be removed in a future version.\n",
      "Instructions for updating:\n",
      "To write TFRecords to disk, use `tf.io.TFRecordWriter`. To save and load the contents of a dataset, use `tf.data.experimental.save` and `tf.data.experimental.load`\n"
     ]
    }
   ],
   "source": [
    "train_tfrecord_path = write_tfrecord(\"mnist_train.tfrecord\", serialized_train_dataset)"
   ]
  },
  {
   "cell_type": "code",
   "execution_count": 61,
   "metadata": {},
   "outputs": [
    {
     "data": {
      "text/plain": [
       "<TFRecordDatasetV2 shapes: (), types: tf.string>"
      ]
     },
     "execution_count": 61,
     "metadata": {},
     "output_type": "execute_result"
    }
   ],
   "source": [
    "raw_dataset = tf.data.TFRecordDataset(train_tfrecord_path)\n",
    "raw_dataset"
   ]
  },
  {
   "cell_type": "code",
   "execution_count": 63,
   "metadata": {},
   "outputs": [],
   "source": [
    "valid_tfrecord_path = write_tfrecord(\"mnist_valid.tfrecord\", serialized_valid_dataset)\n",
    "test_tfrecord_path = write_tfrecord(\"mnist_test.tfrecord\", serialized_test_dataset)"
   ]
  },
  {
   "cell_type": "markdown",
   "metadata": {},
   "source": [
    "Reading TFRecord from disk..."
   ]
  },
  {
   "cell_type": "code",
   "execution_count": 2,
   "metadata": {},
   "outputs": [],
   "source": [
    "feature_description = {\n",
    "    'image': tf.io.FixedLenFeature([], tf.string, default_value=''),\n",
    "    'label': tf.io.FixedLenFeature([], tf.int64, default_value=0)\n",
    "}\n",
    "\n",
    "def parse_function(tfrecord):\n",
    "  return tf.io.parse_single_example(tfrecord, feature_description)"
   ]
  },
  {
   "cell_type": "code",
   "execution_count": 68,
   "metadata": {},
   "outputs": [
    {
     "data": {
      "text/plain": [
       "<MapDataset shapes: {image: (), label: ()}, types: {image: tf.string, label: tf.int64}>"
      ]
     },
     "execution_count": 68,
     "metadata": {},
     "output_type": "execute_result"
    }
   ],
   "source": [
    "parsed_dataset = raw_dataset.map(parse_function)\n",
    "parsed_dataset"
   ]
  },
  {
   "cell_type": "code",
   "execution_count": 3,
   "metadata": {},
   "outputs": [],
   "source": [
    "def preprocess_function(tfrecord):\n",
    "  example = parse_function(tfrecord)\n",
    "  image = tf.io.parse_tensor(example[\"image\"], out_type=tf.uint8)\n",
    "  image = tf.reshape(image, shape=[28, 28])\n",
    "  return image, example[\"label\"]"
   ]
  },
  {
   "cell_type": "code",
   "execution_count": 4,
   "metadata": {},
   "outputs": [],
   "source": [
    "def tfrecords_reader_dataset(filepaths,\n",
    " n_read_threads=5, shuffle_buffer_size=None,\n",
    " n_parse_threads=5, batch_size=32):\n",
    "    \n",
    " dataset = tf.data.TFRecordDataset(filepaths, num_parallel_reads=n_read_threads)\n",
    " if shuffle_buffer_size:\n",
    "    dataset = dataset.shuffle(shuffle_buffer_size) \n",
    " dataset = dataset.map(preprocess_function, num_parallel_calls=n_parse_threads)\n",
    " return dataset.batch(batch_size).prefetch(1)"
   ]
  },
  {
   "cell_type": "code",
   "execution_count": 7,
   "metadata": {},
   "outputs": [],
   "source": [
    "train_tfrecord_path = PATH + \"mnist_train.tfrecord\""
   ]
  },
  {
   "cell_type": "code",
   "execution_count": 8,
   "metadata": {},
   "outputs": [],
   "source": [
    "new_train_set = tfrecords_reader_dataset(train_tfrecord_path, shuffle_buffer_size=60000)"
   ]
  },
  {
   "cell_type": "code",
   "execution_count": 10,
   "metadata": {},
   "outputs": [
    {
     "data": {
      "image/png": "[encoded data removed]",
      "text/plain": [
       "<Figure size 720x720 with 9 Axes>"
      ]
     },
     "metadata": {
      "needs_background": "light"
     },
     "output_type": "display_data"
    }
   ],
   "source": [
    "plt.figure(figsize=(10, 10))\n",
    "for images, labels in new_train_set.take(1):\n",
    "  for i in range(9):\n",
    "    ax = plt.subplot(3, 3, i + 1)\n",
    "    plt.imshow(images[i].numpy().astype(\"uint8\"))\n",
    "    plt.title(labels[i].numpy())\n",
    "    plt.axis(\"off\")"
   ]
  },
  {
   "cell_type": "code",
   "execution_count": 9,
   "metadata": {},
   "outputs": [],
   "source": [
    "valid_tfrecord_path = PATH + \"mnist_valid.tfrecord\"\n",
    "test_tfrecord_path = PATH + \"mnist_test.tfrecord\""
   ]
  },
  {
   "cell_type": "code",
   "execution_count": 11,
   "metadata": {},
   "outputs": [],
   "source": [
    "new_valid_set = tfrecords_reader_dataset(valid_tfrecord_path)\n",
    "new_test_set = tfrecords_reader_dataset(test_tfrecord_path)"
   ]
  },
  {
   "cell_type": "markdown",
   "metadata": {},
   "source": [
    "Building regular ANN..."
   ]
  },
  {
   "cell_type": "code",
   "execution_count": 12,
   "metadata": {},
   "outputs": [],
   "source": [
    "model = kr.models.Sequential([\n",
    "    kr.layers.experimental.preprocessing.Rescaling(1./255),\n",
    "    kr.layers.Flatten(),\n",
    "    kr.layers.Dense(128, activation=\"relu\"),\n",
    "    kr.layers.Dense(128, activation=\"relu\"),\n",
    "    kr.layers.Dense(10, activation=\"softmax\")\n",
    "])"
   ]
  },
  {
   "cell_type": "code",
   "execution_count": 13,
   "metadata": {},
   "outputs": [],
   "source": [
    "model.compile(loss=\"sparse_categorical_crossentropy\",\n",
    "              optimizer=\"nadam\", metrics=[\"accuracy\"])"
   ]
  },
  {
   "cell_type": "code",
   "execution_count": 14,
   "metadata": {},
   "outputs": [
    {
     "name": "stdout",
     "output_type": "stream",
     "text": [
      "Epoch 1/10\n",
      "1563/1563 [==============================] - 4s 2ms/step - loss: 0.4940 - accuracy: 0.8226 - val_loss: 0.4581 - val_accuracy: 0.8255\n",
      "Epoch 2/10\n",
      "1563/1563 [==============================] - 2s 1ms/step - loss: 0.3608 - accuracy: 0.8679 - val_loss: 0.3671 - val_accuracy: 0.8606\n",
      "Epoch 3/10\n",
      "1563/1563 [==============================] - 2s 1ms/step - loss: 0.3252 - accuracy: 0.8800 - val_loss: 0.3308 - val_accuracy: 0.8784\n",
      "Epoch 4/10\n",
      "1563/1563 [==============================] - 2s 1ms/step - loss: 0.3026 - accuracy: 0.8882 - val_loss: 0.3181 - val_accuracy: 0.8859\n",
      "Epoch 5/10\n",
      "1563/1563 [==============================] - 2s 1ms/step - loss: 0.2851 - accuracy: 0.8954 - val_loss: 0.3104 - val_accuracy: 0.8862\n",
      "Epoch 6/10\n",
      "1563/1563 [==============================] - 2s 1ms/step - loss: 0.2721 - accuracy: 0.8983 - val_loss: 0.3112 - val_accuracy: 0.8896\n",
      "Epoch 7/10\n",
      "1563/1563 [==============================] - 2s 1ms/step - loss: 0.2590 - accuracy: 0.9023 - val_loss: 0.3216 - val_accuracy: 0.8856\n",
      "Epoch 8/10\n",
      "1563/1563 [==============================] - 2s 1ms/step - loss: 0.2474 - accuracy: 0.9064 - val_loss: 0.3027 - val_accuracy: 0.8926\n",
      "Epoch 9/10\n",
      "1563/1563 [==============================] - 2s 1ms/step - loss: 0.2395 - accuracy: 0.9109 - val_loss: 0.3210 - val_accuracy: 0.8888\n",
      "Epoch 10/10\n",
      "1563/1563 [==============================] - 2s 1ms/step - loss: 0.2298 - accuracy: 0.9120 - val_loss: 0.3158 - val_accuracy: 0.8910\n"
     ]
    }
   ],
   "source": [
    "history = model.fit(new_train_set, epochs=10, validation_data=new_valid_set)"
   ]
  },
  {
   "cell_type": "code",
   "execution_count": 15,
   "metadata": {},
   "outputs": [
    {
     "data": {
      "image/png": "[encoded data removed]",
      "text/plain": [
       "<Figure size 576x576 with 2 Axes>"
      ]
     },
     "metadata": {
      "needs_background": "light"
     },
     "output_type": "display_data"
    }
   ],
   "source": [
    "acc = history.history['accuracy']\n",
    "val_acc = history.history['val_accuracy']\n",
    "\n",
    "loss = history.history['loss']\n",
    "val_loss = history.history['val_loss']\n",
    "\n",
    "epochs_range = range(10)\n",
    "\n",
    "plt.figure(figsize=(8, 8))\n",
    "plt.subplot(1, 2, 1)\n",
    "plt.plot(epochs_range, acc, label='Training Accuracy')\n",
    "plt.plot(epochs_range, val_acc, label='Validation Accuracy')\n",
    "plt.legend(loc='lower right')\n",
    "plt.title('Training and Validation Accuracy')\n",
    "\n",
    "plt.subplot(1, 2, 2)\n",
    "plt.plot(epochs_range, loss, label='Training Loss')\n",
    "plt.plot(epochs_range, val_loss, label='Validation Loss')\n",
    "plt.legend(loc='upper right')\n",
    "plt.title('Training and Validation Loss')\n",
    "plt.show()"
   ]
  },
  {
   "cell_type": "markdown",
   "metadata": {},
   "source": [
    "Building CNN..."
   ]
  },
  {
   "cell_type": "code",
   "execution_count": 28,
   "metadata": {},
   "outputs": [],
   "source": [
    "model2 = tf.keras.models.Sequential([\n",
    " tf.keras.layers.Conv2D(128, 7, activation=\"relu\", padding=\"same\",\n",
    " input_shape=[28, 28, 1]),\n",
    " tf.keras.layers.MaxPooling2D(2),\n",
    " tf.keras.layers.Conv2D(256, 3, activation=\"relu\", padding=\"same\"),\n",
    " tf.keras.layers.MaxPooling2D(2),\n",
    " tf.keras.layers.Conv2D(512, 3, activation=\"relu\", padding=\"same\"),\n",
    " tf.keras.layers.MaxPooling2D(2),\n",
    " tf.keras.layers.Flatten(),\n",
    " tf.keras.layers.Dense(128, activation=\"relu\"),\n",
    " tf.keras.layers.Dropout(0.5),\n",
    " tf.keras.layers.Dense(128, activation=\"relu\"),\n",
    " tf.keras.layers.Dropout(0.5),\n",
    " tf.keras.layers.Dense(10, activation=\"softmax\")\n",
    "])\n"
   ]
  },
  {
   "cell_type": "code",
   "execution_count": 29,
   "metadata": {},
   "outputs": [],
   "source": [
    "model2.compile(loss=\"sparse_categorical_crossentropy\",\n",
    "              optimizer=\"nadam\", metrics=[\"accuracy\"])"
   ]
  },
  {
   "cell_type": "code",
   "execution_count": 30,
   "metadata": {},
   "outputs": [
    {
     "name": "stdout",
     "output_type": "stream",
     "text": [
      "Epoch 1/10\n",
      "1563/1563 [==============================] - 2s 1ms/step - loss: 0.0873 - accuracy: 0.9665 - val_loss: 0.5194 - val_accuracy: 0.8945\n",
      "Epoch 2/10\n",
      "1563/1563 [==============================] - 2s 1ms/step - loss: 0.0872 - accuracy: 0.9677 - val_loss: 0.5610 - val_accuracy: 0.8980\n",
      "Epoch 3/10\n",
      "1563/1563 [==============================] - 2s 1ms/step - loss: 0.0851 - accuracy: 0.9672 - val_loss: 0.5728 - val_accuracy: 0.8954\n",
      "Epoch 4/10\n",
      "1563/1563 [==============================] - 2s 1ms/step - loss: 0.0839 - accuracy: 0.9686 - val_loss: 0.5494 - val_accuracy: 0.9002\n",
      "Epoch 5/10\n",
      "1563/1563 [==============================] - 2s 1ms/step - loss: 0.0807 - accuracy: 0.9691 - val_loss: 0.5867 - val_accuracy: 0.8946\n",
      "Epoch 6/10\n",
      "1563/1563 [==============================] - 2s 1ms/step - loss: 0.0798 - accuracy: 0.9693 - val_loss: 0.6128 - val_accuracy: 0.8935\n",
      "Epoch 7/10\n",
      "1563/1563 [==============================] - 2s 1ms/step - loss: 0.0763 - accuracy: 0.9707 - val_loss: 0.6622 - val_accuracy: 0.8849\n",
      "Epoch 8/10\n",
      "1563/1563 [==============================] - 2s 1ms/step - loss: 0.0803 - accuracy: 0.9696 - val_loss: 0.6499 - val_accuracy: 0.8891\n",
      "Epoch 9/10\n",
      "1563/1563 [==============================] - 2s 1ms/step - loss: 0.0716 - accuracy: 0.9722 - val_loss: 0.6388 - val_accuracy: 0.8951\n",
      "Epoch 10/10\n",
      "1563/1563 [==============================] - 2s 1ms/step - loss: 0.0785 - accuracy: 0.9705 - val_loss: 0.6154 - val_accuracy: 0.8954\n"
     ]
    }
   ],
   "source": [
    "history2 = model.fit(new_train_set, epochs=10, validation_data=new_valid_set)"
   ]
  }
 ],
 "metadata": {
  "kernelspec": {
   "display_name": "Python 3.9.12 ('geoenv')",
   "language": "python",
   "name": "python3"
  },
  "language_info": {
   "codemirror_mode": {
    "name": "ipython",
    "version": 3
   },
   "file_extension": ".py",
   "mimetype": "text/x-python",
   "name": "python",
   "nbconvert_exporter": "python",
   "pygments_lexer": "ipython3",
   "version": "3.9.12"
  },
  "orig_nbformat": 4,
  "vscode": {
   "interpreter": {
    "hash": "5aa05e89e1cbf1c88f4ccc523b1e6cdb19e3af5773b0dbf23f98df65fff3e1d8"
   }
  }
 },
 "nbformat": 4,
 "nbformat_minor": 2
}
